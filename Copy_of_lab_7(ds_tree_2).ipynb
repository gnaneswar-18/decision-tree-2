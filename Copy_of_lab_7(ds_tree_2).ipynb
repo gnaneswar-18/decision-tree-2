{
  "nbformat": 4,
  "nbformat_minor": 0,
  "metadata": {
    "colab": {
      "provenance": [],
      "mount_file_id": "1xHAbnwpuknQpEejxFTa_J3C9R856m-dP",
      "authorship_tag": "ABX9TyNdP7fZHPlSc++z6LTy258s",
      "include_colab_link": true
    },
    "kernelspec": {
      "name": "python3",
      "display_name": "Python 3"
    },
    "language_info": {
      "name": "python"
    }
  },
  "cells": [
    {
      "cell_type": "markdown",
      "metadata": {
        "id": "view-in-github",
        "colab_type": "text"
      },
      "source": [
        "<a href=\"https://colab.research.google.com/github/gnaneswar-18/decision-tree-2/blob/main/Copy_of_lab_7(ds_tree_2).ipynb\" target=\"_parent\"><img src=\"https://colab.research.google.com/assets/colab-badge.svg\" alt=\"Open In Colab\"/></a>"
      ]
    },
    {
      "cell_type": "code",
      "execution_count": null,
      "metadata": {
        "id": "REQOABS354OV"
      },
      "outputs": [],
      "source": [
        "import pandas as pd\n",
        "from sklearn.preprocessing import LabelEncoder\n",
        "from sklearn.tree import DecisionTreeClassifier\n",
        "from sklearn.tree import export_graphviz\n",
        "import graphviz\n",
        "\n",
        "data = pd.read_csv('/content/drive/MyDrive/Colab Notebooks/labs/Enjoy sports.csv')\n",
        "x = data[['Outlook', 'Temp.', 'Humidity', 'Wind']]\n",
        "y = data['Decision']\n",
        "\n",
        "le = LabelEncoder()\n",
        "x = x.apply(le.fit_transform)\n",
        "y = le.fit_transform(y)\n",
        "\n",
        "tree = DecisionTreeClassifier(criterion='entropy', random_state=0)\n",
        "tree.fit(x, y)\n",
        "dot_data = export_graphviz(tree, out_file=None,\n",
        "                           feature_names=['Outlook', 'Temp.', 'Humidity', 'Wind'],\n",
        "                           class_names=['No', 'Yes'],\n",
        "                           filled=True, rounded=True,\n",
        "                           special_characters=True)\n",
        "graph = graphviz.Source(dot_data)\n",
        "\n",
        "graph.render(\"decision_tree\")\n",
        "graph\n"
      ]
    }
  ]
}